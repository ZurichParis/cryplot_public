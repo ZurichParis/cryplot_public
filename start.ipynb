{
 "cells": [
  {
   "cell_type": "code",
   "execution_count": 1,
   "id": "dd99206b-d864-4e0b-ada8-d7a3f320060a",
   "metadata": {},
   "outputs": [
    {
     "data": {
      "text/plain": [
       "'/Users/danliliu/Documents/Work_In_Process/Cryplot'"
      ]
     },
     "execution_count": 1,
     "metadata": {},
     "output_type": "execute_result"
    }
   ],
   "source": [
    "import os\n",
    "os.getcwd()"
   ]
  },
  {
   "cell_type": "code",
   "execution_count": 2,
   "id": "a97f8253-b196-48a3-8ae9-3064a3bac4bd",
   "metadata": {},
   "outputs": [
    {
     "name": "stderr",
     "output_type": "stream",
     "text": [
      "/Users/danliliu/opt/anaconda3/lib/python3.9/site-packages/statsmodels/tsa/base/tsa_model.py:7: FutureWarning: pandas.Int64Index is deprecated and will be removed from pandas in a future version. Use pandas.Index with the appropriate dtype instead.\n",
      "  from pandas import (to_datetime, Int64Index, DatetimeIndex, Period,\n",
      "/Users/danliliu/opt/anaconda3/lib/python3.9/site-packages/statsmodels/tsa/base/tsa_model.py:7: FutureWarning: pandas.Float64Index is deprecated and will be removed from pandas in a future version. Use pandas.Index with the appropriate dtype instead.\n",
      "  from pandas import (to_datetime, Int64Index, DatetimeIndex, Period,\n",
      "In /Users/danliliu/opt/anaconda3/lib/python3.9/site-packages/matplotlib/mpl-data/stylelib/_classic_test.mplstyle: \n",
      "The text.latex.preview rcparam was deprecated in Matplotlib 3.3 and will be removed two minor releases later.\n",
      "In /Users/danliliu/opt/anaconda3/lib/python3.9/site-packages/matplotlib/mpl-data/stylelib/_classic_test.mplstyle: \n",
      "The mathtext.fallback_to_cm rcparam was deprecated in Matplotlib 3.3 and will be removed two minor releases later.\n",
      "In /Users/danliliu/opt/anaconda3/lib/python3.9/site-packages/matplotlib/mpl-data/stylelib/_classic_test.mplstyle: Support for setting the 'mathtext.fallback_to_cm' rcParam is deprecated since 3.3 and will be removed two minor releases later; use 'mathtext.fallback : 'cm' instead.\n",
      "In /Users/danliliu/opt/anaconda3/lib/python3.9/site-packages/matplotlib/mpl-data/stylelib/_classic_test.mplstyle: \n",
      "The validate_bool_maybe_none function was deprecated in Matplotlib 3.3 and will be removed two minor releases later.\n",
      "In /Users/danliliu/opt/anaconda3/lib/python3.9/site-packages/matplotlib/mpl-data/stylelib/_classic_test.mplstyle: \n",
      "The savefig.jpeg_quality rcparam was deprecated in Matplotlib 3.3 and will be removed two minor releases later.\n",
      "In /Users/danliliu/opt/anaconda3/lib/python3.9/site-packages/matplotlib/mpl-data/stylelib/_classic_test.mplstyle: \n",
      "The keymap.all_axes rcparam was deprecated in Matplotlib 3.3 and will be removed two minor releases later.\n",
      "In /Users/danliliu/opt/anaconda3/lib/python3.9/site-packages/matplotlib/mpl-data/stylelib/_classic_test.mplstyle: \n",
      "The animation.avconv_path rcparam was deprecated in Matplotlib 3.3 and will be removed two minor releases later.\n",
      "In /Users/danliliu/opt/anaconda3/lib/python3.9/site-packages/matplotlib/mpl-data/stylelib/_classic_test.mplstyle: \n",
      "The animation.avconv_args rcparam was deprecated in Matplotlib 3.3 and will be removed two minor releases later.\n"
     ]
    }
   ],
   "source": [
    "from sqlalchemy import create_engine\n",
    "import pandas as pd\n",
    "import sqlite3\n",
    "import yfinance as yf\n",
    "import numpy as np\n",
    "import statsmodels.api as sm\n",
    "from matplotlib import pyplot as plt\n",
    "import plotly.express as px\n",
    "import plotly.graph_objects as go\n",
    "from datetime import datetime\n",
    "import matplotlib.dates as mdates\n",
    "import requests"
   ]
  },
  {
   "cell_type": "code",
   "execution_count": 10,
   "id": "bacde998-2c51-463a-99b5-2eb06d83288c",
   "metadata": {},
   "outputs": [
    {
     "name": "stdout",
     "output_type": "stream",
     "text": [
      "(4988, '2024-03-14', 73103.578125, 5548, 16.157654401552854, 12.437752072323603, 15.935132164541017, 62654.571823603845)\n",
      "(4987, '2024-03-13', 71482.1171875, 5547, 16.125294744911958, 12.437492010125352, 15.933656452424401, 62590.51612490153)\n",
      "(4986, '2024-03-12', 72125.125, 5546, 16.13821429364343, 12.437231901039478, 15.932180474245925, 62526.51438321519)\n",
      "(4985, '2024-03-11', 69020.546875, 5545, 16.07473828436786, 12.436971745049073, 15.930704229909637, 62462.566562811255)\n",
      "(4984, '2024-03-10', 68500.2578125, 5544, 16.063821797463714, 12.436711542137214, 15.929227719319528, 62398.67262797322)\n"
     ]
    }
   ],
   "source": [
    "# Reusing the connection to execute a quick query before closing it\n",
    "conn = sqlite3.connect('btcusd_data.db')\n",
    "cur = conn.cursor()\n",
    "cur.execute(\"SELECT * FROM btc_prices ORDER BY Date DESC LIMIT 5\")\n",
    "rows = cur.fetchall()\n",
    "for row in rows:\n",
    "    print(row)\n",
    "conn.close()"
   ]
  },
  {
   "cell_type": "code",
   "execution_count": 4,
   "id": "5eea9ab6-a24e-493a-b85a-1e3275aa7b0b",
   "metadata": {},
   "outputs": [
    {
     "data": {
      "text/plain": [
       "15.932180474245925"
      ]
     },
     "execution_count": 4,
     "metadata": {},
     "output_type": "execute_result"
    }
   ],
   "source": [
    "CONST = -54.64237413955075\n",
    "COEF = 5.674458366246126\n",
    "result = CONST + COEF * 12.437231901039478\n",
    "result"
   ]
  },
  {
   "cell_type": "code",
   "execution_count": 7,
   "id": "6963d0ee-de6d-490b-92fe-09cda99eca99",
   "metadata": {},
   "outputs": [
    {
     "name": "stdout",
     "output_type": "stream",
     "text": [
      "(4984, '2024-03-10', 68500.2578125, 5544, 16.063821797463714, 12.436711542137214, 15.929227719319528, 62398.67262797322)\n",
      "(4983, '2024-03-09', 68299.2578125, 5543, 16.05958228081674, 12.436451292286977, 15.927750942379518, 62334.83254300092)\n",
      "(4982, '2024-03-08', 66938.09375, 5542, 16.030539846370424, 12.436190995481416, 15.926273898993514, 62271.04627221309)\n",
      "(4981, '2024-03-07', 66099.7421875, 5541, 16.0123570242697, 12.435930651703597, 15.924796589065352, 62207.31377994482)\n",
      "(4980, '2024-03-06', 63776.05078125, 5540, 15.960727143575705, 12.43567026093655, 15.923319012498808, 62143.63503054823)\n"
     ]
    }
   ],
   "source": [
    "\n",
    "# Reusing the connection to execute a quick query before closing it\n",
    "conn = sqlite3.connect('btcusd_data.db')\n",
    "cur = conn.cursor()\n",
    "# cur.execute(\"ALTER TABLE btc_prices ADD COLUMN Prediction REAL\")\n",
    "cur.execute(\"UPDATE btc_prices SET Prediction = POWER(2, PredictedLog2Open)\")\n",
    "cur.execute(\"SELECT * FROM btc_prices ORDER BY Date DESC LIMIT 5\")\n",
    "rows = cur.fetchall()\n",
    "for row in rows:\n",
    "    print(row)\n",
    "conn.commit()\n",
    "conn.close()\n",
    "\n"
   ]
  },
  {
   "cell_type": "code",
   "execution_count": null,
   "id": "e53f0c44-877e-4763-a0ef-6e2e03087c87",
   "metadata": {},
   "outputs": [],
   "source": []
  }
 ],
 "metadata": {
  "kernelspec": {
   "display_name": "Python 3 (ipykernel)",
   "language": "python",
   "name": "python3"
  },
  "language_info": {
   "codemirror_mode": {
    "name": "ipython",
    "version": 3
   },
   "file_extension": ".py",
   "mimetype": "text/x-python",
   "name": "python",
   "nbconvert_exporter": "python",
   "pygments_lexer": "ipython3",
   "version": "3.9.7"
  }
 },
 "nbformat": 4,
 "nbformat_minor": 5
}
